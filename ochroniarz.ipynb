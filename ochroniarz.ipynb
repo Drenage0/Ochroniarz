{
 "cells": [
  {
   "cell_type": "markdown",
   "id": "1ac0cc19-aa31-49c4-9ad6-ca90a42e7054",
   "metadata": {},
   "source": [
    "# Ochroniarz - Wykrywanie nieodpowiednich treści i wrażliwych danych"
   ]
  },
  {
   "cell_type": "code",
   "execution_count": 1,
   "id": "d534b5e0-a079-4752-9637-3fc4a4a35e65",
   "metadata": {},
   "outputs": [],
   "source": [
    "##### == Import libraries ==\n",
    "from openai import OpenAI, AuthenticationError\n",
    "import spacy\n",
    "import sys\n",
    "import textwrap\n",
    "\n",
    "# == Global variables ==\n",
    "END_MES = \"====Program zakonczony====\"\n",
    "# * flags\n",
    "detected_harassment_or_threats = False\n",
    "detected_sensitive_data = False\n"
   ]
  },
  {
   "cell_type": "code",
   "execution_count": 2,
   "id": "6c775e45",
   "metadata": {},
   "outputs": [
    {
     "name": "stdout",
     "output_type": "stream",
     "text": [
      "------------------------- TREŚĆ DOKUMENTU -------------------------\n",
      "Jane Smith, born April 12, 1990, resides at 4321 Oak Avenue, Rivertown, TX, 75001. She is employed by Global Solutions Ltd., located at 8765 Pine Boulevard, Orlando, FL, 32801. Her Social Security number is 666-66-6666, and her credit card number is 1234-5678-9123-4567, with an expiration date of 06/28 and a CVV of 456. Jane's driver's license number is X1234568, issued in Texas. She holds a bank account number 123456789 at National Trust Bank. Hateful text: I hate you, you are SO BAAAAAD! You are useless! You are worthless!\n",
      "------------------------------ END ------------------------------\n"
     ]
    }
   ],
   "source": [
    "# == Try to open file and read it to text variable ==\n",
    "try:\n",
    "    text = open(\"text/text1.txt\", \"r\").read().strip().strip(\"\\n\")\n",
    "except FileNotFoundError:\n",
    "    print(f\"Nie znaleziono pliku: {sys.argv[1]}\")\n",
    "    sys.exit(2)\n",
    "# print text if file found\n",
    "print(\"-\"*25, \"TREŚĆ DOKUMENTU\",\"-\"*25 )\n",
    "print(text)\n",
    "print(\"-\"*30, \"END\",\"-\"*30 )"
   ]
  },
  {
   "cell_type": "markdown",
   "id": "45681b31-1721-466d-a985-c45f3968c2ca",
   "metadata": {},
   "source": [
    "## <u>Wykrywanie mowy nienawiści/gróźb/zastraszania/molestowania</u>"
   ]
  },
  {
   "cell_type": "markdown",
   "id": "95394a03-7d91-4294-b684-b85fdeea679f",
   "metadata": {},
   "source": [
    "    Do wykrywania nieodpowiednich treści w tekście skorzystałem z API OpenAI Moderations. Jest to model specjalnie przeznaczony do tego zadania, Pozwala ocenić treści na skali od 0 do 1, co ułatwia monitorowanie i filtrację mowy nienawiści. \n",
    "\n",
    "    Do zadziałania programu wymagane jest wpisanie swojego klucza API do pliku `API_KEY\""
   ]
  },
  {
   "cell_type": "markdown",
   "id": "2fd437b1-3522-4dff-941a-7380c8cc61ba",
   "metadata": {},
   "source": [
    "`Zmiana tekstu do testowania:`"
   ]
  },
  {
   "cell_type": "code",
   "execution_count": 3,
   "id": "ff5e3869-804a-49d5-b238-e9849583ae8b",
   "metadata": {},
   "outputs": [],
   "source": [
    "text = text"
   ]
  },
  {
   "cell_type": "code",
   "execution_count": 4,
   "id": "187cfa74",
   "metadata": {},
   "outputs": [],
   "source": [
    "# == Initialize OpenAi library ==\n",
    "# * read API key  from file\n",
    "API_KEY = open(\"API_KEY\", \"r\").read()\n",
    "# * create OpenAi client\n",
    "client = OpenAI(\n",
    "    api_key=API_KEY)\n",
    "# * try to get a response from moderations endpoint\n",
    "try:\n",
    "    response = client.moderations.create(\n",
    "        input=text)\n",
    "except (AuthenticationError, NameError):\n",
    "    response = \"\"\n",
    "    while True:\n",
    "        print(\"Error: Błędny klucz API, czy chcesz kontynuować bez sprawdzania mowy nienawiści?\")\n",
    "        users_input = input(\"Wpisz Y/N: \")\n",
    "        if users_input.lower() == \"y\":\n",
    "            break\n",
    "        elif users_input.lower() == \"n\":\n",
    "            sys.exit(END_MES)"
   ]
  },
  {
   "cell_type": "code",
   "execution_count": 5,
   "id": "c18b0295",
   "metadata": {},
   "outputs": [
    {
     "name": "stdout",
     "output_type": "stream",
     "text": [
      "❗\u001b[31mWykryto harassment == True ! \u001b[0mOkreślona wartość 0.5 na 1.0\n"
     ]
    }
   ],
   "source": [
    "# == Hate speech recognition - OpenAI moderations ==\n",
    "# check response if there is one\n",
    "if response:\n",
    "    # * load all categories\n",
    "    categories = response.results[0].categories\n",
    "    categories_dict = vars(categories)  # * access attributes as dict\n",
    "    # * load all categories scores\n",
    "    category_scores = response.results[0].category_scores\n",
    "    category_scores_dict = vars(category_scores)  # * access attributes as dict\n",
    "    # print if hate speech detected\n",
    "    for key in categories_dict:\n",
    "        if categories_dict[key] == True:\n",
    "\n",
    "            # * Set flag to True when something detected\n",
    "            detected_harassment_or_threats = True\n",
    "            # * print message\n",
    "            print(\"❗\\033[31mWykryto\", key, \"==\",  categories_dict[key], \"!\", end=\" \")\n",
    "            print(f\"\\033[0mOkreślona wartość {round(category_scores_dict[key], 2)} na 1.0\"\n",
    "\n",
    "                  )\n",
    "        else:\n",
    "            # * if False continue to the next key\n",
    "            continue\n",
    "    if not detected_harassment_or_threats:\n",
    "        print(\n",
    "            \"✅\\033[32m Nie znaleziono mowy nienawiści/gróźb/zastraszania/molestowania \\033[0m\")\n",
    "\n",
    "else:\n",
    "    print(\"====Kontynuacja bez sprawdzania mowy nienawiści====\")\n",
    "\n",
    "\n"
   ]
  },
  {
   "cell_type": "markdown",
   "id": "b0ea33af-6da3-420b-a5c8-5e532c866373",
   "metadata": {},
   "source": [
    "## <u> Wykrywanie wrażliwych danych </u>"
   ]
  },
  {
   "cell_type": "markdown",
   "id": "2fe1e942-f80f-4189-8a3a-10251547cdd5",
   "metadata": {},
   "source": [
    "    Do wykrywania wrażliwych danych skorzystałem z popularnej biblioteki spacy do przetwarzania języka naturalnego. Posiada ona możliwość wyszukiwania fragmentów tekstu odnoszących się do do imion osób, nazw miejsc, firm, numerow telefonów, kwot pieniężnych, dat, i wielu innych specyficznych informacji."
   ]
  },
  {
   "cell_type": "markdown",
   "id": "17631272-d46d-49fe-a191-d0b8f7da873d",
   "metadata": {},
   "source": [
    "`Zmiana tekstu do testowania:`"
   ]
  },
  {
   "cell_type": "code",
   "execution_count": 6,
   "id": "92ab9493-2519-4aab-826c-902869a5d111",
   "metadata": {},
   "outputs": [],
   "source": [
    "text = text"
   ]
  },
  {
   "cell_type": "markdown",
   "id": "eadecbf3-88b5-4a74-8e87-3b071cb6f608",
   "metadata": {},
   "source": [
    "### Stworzenie słownika zawierającego wrażliwe treści i unikalne zamienniki (placeholdery)"
   ]
  },
  {
   "cell_type": "code",
   "execution_count": 7,
   "id": "77996e8a-8c56-417d-a87d-813becd05cce",
   "metadata": {},
   "outputs": [
    {
     "name": "stdout",
     "output_type": "stream",
     "text": [
      "❗\u001b[31mWykryto wrażliwe dane \u001b[0m\n"
     ]
    }
   ],
   "source": [
    "# *initialize spacy\n",
    "nlp = spacy.load(\"en_core_web_sm\")\n",
    "doc = nlp(text)\n",
    "# create dictionary for replacing words for placeholders {\"Entity\": \"placeholder\", ...}\n",
    "dataTransform_dict = {}\n",
    "# value index - for making values in dictionary UNIQUE\n",
    "count = 0\n",
    "for ent in doc.ents:\n",
    "    if ent.text in dataTransform_dict:\n",
    "        # *if key exists, just continue to the nest ent\n",
    "        continue\n",
    "    else:\n",
    "        # * Set flag to True when something detected\n",
    "        detected_sensitive_data = True\n",
    "        # * add key/value pair dictionary with unique value count\n",
    "        dataTransform_dict[ent.text] = ent.label_ + f\"[{count}]\"\n",
    "        count += 1\n",
    "\n",
    "if not detected_sensitive_data:\n",
    "    print(\"✅\\033[32m Nie znaleziono wrażliwych danych \\033[0m\")\n",
    "else:\n",
    "    print(\"❗\\033[31mWykryto wrażliwe dane \\033[0m\")\n"
   ]
  },
  {
   "cell_type": "code",
   "execution_count": 8,
   "id": "a0d668f8-f409-4d41-8aa0-2a914bc25ba8",
   "metadata": {},
   "outputs": [],
   "source": [
    "#### Słownik zamiany wrażliwych danych na anonimowe"
   ]
  },
  {
   "cell_type": "code",
   "execution_count": 9,
   "id": "37c2d5c6-6c65-4e35-bae7-50c55bb48532",
   "metadata": {},
   "outputs": [
    {
     "name": "stdout",
     "output_type": "stream",
     "text": [
      "------------------------- SŁOWNIK ZAMIANY -------------------------\n",
      "'Jane Smith': 'PERSON[0]',\n",
      "'April 12, 1990': 'DATE[1]',\n",
      "'4321': 'DATE[2]',\n",
      "'Oak Avenue': 'FAC[3]',\n",
      "'Rivertown': 'GPE[4]',\n",
      "'TX': 'ORG[5]',\n",
      "'75001': 'PERSON[6]',\n",
      "'Global Solutions Ltd.': 'ORG[7]',\n",
      "'8765 Pine Boulevard': 'FAC[8]',\n",
      "'Orlando': 'GPE[9]',\n",
      "'FL': 'ORG[10]',\n",
      "'32801': 'DATE[11]',\n",
      "'Social Security': 'ORG[12]',\n",
      "'666': 'CARDINAL[13]',\n",
      "'1234-5678-9123-4567': 'DATE[14]',\n",
      "'06/28': 'CARDINAL[15]',\n",
      "'CVV': 'ORG[16]',\n",
      "'456': 'CARDINAL[17]',\n",
      "'Jane': 'PERSON[18]',\n",
      "'Texas': 'GPE[19]',\n",
      "'123456789': 'DATE[20]',\n",
      "'National Trust Bank': 'ORG[21]',\n",
      "------------------------- END -------------------------\n"
     ]
    }
   ],
   "source": [
    "# print(\"Słownik zmiany wrażliwych danych na anonimowe:\", dataTransform_dict)\n",
    "print(\"-\"*25, \"SŁOWNIK ZAMIANY\",\"-\"*25 )\n",
    "for key in dataTransform_dict:\n",
    "    print(f\"'{key}': '{dataTransform_dict[key]}',\")\n",
    "print(\"-\"*25, \"END\",\"-\"*25 )"
   ]
  },
  {
   "cell_type": "markdown",
   "id": "93acc634-6ee0-4259-b773-24c6ce92cc14",
   "metadata": {},
   "source": [
    "### Funkcja zamieniająca substringi obecne w dict.keys() na placeholdery "
   ]
  },
  {
   "cell_type": "code",
   "execution_count": 10,
   "id": "044f4271-10e5-4d37-93c9-1f8e9b350388",
   "metadata": {},
   "outputs": [],
   "source": [
    "def replace_entities_with_placeholders(text, dictionary):\n",
    "    \"\"\"\n",
    "    returns text with sensitive data replaced with placeholders\n",
    "    \"\"\"\n",
    "    # Get the dictionary keys\n",
    "    dict_keys = dictionary.keys()\n",
    "\n",
    "    # create 2 versions for replacing text\n",
    "    text_not_highlited = text\n",
    "    text_highlited = text\n",
    "    # replace each key with placeholder\n",
    "    for key in dict_keys:\n",
    "        text_not_highlited = text_not_highlited.replace(key, f\"{dictionary[key]}\")\n",
    "        text_highlited = text_highlited.replace(key, f\"\\033[32m{dictionary[key]}\\033[0m\")\n",
    "    return text_not_highlited, text_highlited"
   ]
  },
  {
   "cell_type": "code",
   "execution_count": 11,
   "id": "3667f671-faa7-4440-9085-2e5a97e60106",
   "metadata": {},
   "outputs": [
    {
     "name": "stdout",
     "output_type": "stream",
     "text": [
      "=========Oryginalny tekst===========\n",
      "Jane Smith, born April 12, 1990, resides at 4321 Oak Avenue, Rivertown, TX, 75001. She is employed by Global Solutions Ltd., located at 8765 Pine Boulevard, Orlando, FL, 32801. Her Social Security number is 666-66-6666, and her credit card number is 1234-5678-9123-4567, with an expiration date of 06/28 and a CVV of 456. Jane's driver's license number is X1234568, issued in Texas. She holds a bank account number 123456789 at National Trust Bank. Hateful text: I hate you, you are SO BAAAAAD! You are useless! You are worthless!\n",
      "=========Zmieniony tekst===========\n",
      "\u001b[32mPERSON[0]\u001b[0m, born \u001b[32mDATE[1]\u001b[0m, resides at \u001b[32mDATE[2]\u001b[0m \u001b[32mFAC[3]\u001b[0m, \u001b[32mGPE[4]\u001b[0m, \u001b[32mORG[5]\u001b[0m, \u001b[32mPERSON[6]\u001b[0m. She is employed by \u001b[32mORG[7]\u001b[0m, located at \u001b[32mFAC[8]\u001b[0m, \u001b[32mGPE[9]\u001b[0m, \u001b[32mORG[10]\u001b[0m, \u001b[32mDATE[11]\u001b[0m. Her \u001b[32mORG[12]\u001b[0m number is \u001b[32mCARDINAL[13]\u001b[0m-66-\u001b[32mCARDINAL[13]\u001b[0m6, and her credit card number is \u001b[32mDATE[14]\u001b[0m, with an expiration date of \u001b[32mCARDINAL[15]\u001b[0m and a \u001b[32mORG[16]\u001b[0m of \u001b[32mCARDINAL[17]\u001b[0m. \u001b[32mPERSON[18]\u001b[0m's driver's license number is X123\u001b[32mCARDINAL[17]\u001b[0m8, issued in \u001b[32mGPE[19]\u001b[0m. She holds a bank account number 123\u001b[32mCARDINAL[17]\u001b[0m789 at \u001b[32mORG[21]\u001b[0m. Hateful text: I hate you, you are SO BAAAAAD! You are useless! You are worthless!\n",
      "======================================================================\n"
     ]
    }
   ],
   "source": [
    "changed_text, changed_text_highlited = replace_entities_with_placeholders(text, dataTransform_dict)\n",
    "print(\"=========Oryginalny tekst===========\")\n",
    "print(text)\n",
    "print(\"=========Zmieniony tekst===========\")\n",
    "print(changed_text_highlited + \"\\n\" + \"=\"*70)"
   ]
  },
  {
   "cell_type": "markdown",
   "id": "417f593e-868e-40e6-99f9-797807591ba0",
   "metadata": {},
   "source": [
    "### Funkcja zamieniająca placeholdery na oryginalny tekst"
   ]
  },
  {
   "cell_type": "code",
   "execution_count": 12,
   "id": "9d0461b3-a78a-4f8a-917f-7ad77a208110",
   "metadata": {},
   "outputs": [],
   "source": [
    "def replace_placeholders_with_entities(text, dictionary):\n",
    "    \"\"\"\n",
    "    returns text with placeholders replaced to oryginal text\n",
    "    \"\"\"\n",
    "    # Reverse dictionary keys->values, values->keys using dictionary comprehension\n",
    "    reverse_dict = {v: k for k, v in dictionary.items()}\n",
    "     # Get the reversed_dictionary keys\n",
    "    reverse_dict_keys = reverse_dict.keys()\n",
    "\n",
    "    # strip text from color \n",
    "    text = text.strip(\"\\033[32m\").strip(\"\\033[0m\")\n",
    "    # replace each placeholder in text\n",
    "    for key in reverse_dict_keys:\n",
    "        text = text.replace(key, f\"{reverse_dict[key]}\")\n",
    "\n",
    "    return text"
   ]
  },
  {
   "cell_type": "code",
   "execution_count": 13,
   "id": "d61655ee-14a6-4399-8d5e-0167e0a5df0d",
   "metadata": {},
   "outputs": [
    {
     "name": "stdout",
     "output_type": "stream",
     "text": [
      "========Tekst z placeholderami============\n",
      "\u001b[32mPERSON[0]\u001b[0m, born \u001b[32mDATE[1]\u001b[0m, resides at \u001b[32mDATE[2]\u001b[0m \u001b[32mFAC[3]\u001b[0m, \u001b[32mGPE[4]\u001b[0m, \u001b[32mORG[5]\u001b[0m, \u001b[32mPERSON[6]\u001b[0m. She is employed by \u001b[32mORG[7]\u001b[0m, located at \u001b[32mFAC[8]\u001b[0m, \u001b[32mGPE[9]\u001b[0m, \u001b[32mORG[10]\u001b[0m, \u001b[32mDATE[11]\u001b[0m. Her \u001b[32mORG[12]\u001b[0m number is \u001b[32mCARDINAL[13]\u001b[0m-66-\u001b[32mCARDINAL[13]\u001b[0m6, and her credit card number is \u001b[32mDATE[14]\u001b[0m, with an expiration date of \u001b[32mCARDINAL[15]\u001b[0m and a \u001b[32mORG[16]\u001b[0m of \u001b[32mCARDINAL[17]\u001b[0m. \u001b[32mPERSON[18]\u001b[0m's driver's license number is X123\u001b[32mCARDINAL[17]\u001b[0m8, issued in \u001b[32mGPE[19]\u001b[0m. She holds a bank account number 123\u001b[32mCARDINAL[17]\u001b[0m789 at \u001b[32mORG[21]\u001b[0m. Hateful text: I hate you, you are SO BAAAAAD! You are useless! You are worthless!\n",
      "=========Odszyfrowany tekst===========\n",
      "Jane Smith, born April 12, 1990, resides at 4321 Oak Avenue, Rivertown, TX, 75001. She is employed by Global Solutions Ltd., located at 8765 Pine Boulevard, Orlando, FL, 32801. Her Social Security number is 666-66-6666, and her credit card number is 1234-5678-9123-4567, with an expiration date of 06/28 and a CVV of 456. Jane's driver's license number is X1234568, issued in Texas. She holds a bank account number 123456789 at National Trust Bank. Hateful text: I hate you, you are SO BAAAAAD! You are useless! You are worthless!\n",
      "======================================================================\n"
     ]
    }
   ],
   "source": [
    "oryginal_text = replace_placeholders_with_entities(text, dataTransform_dict)\n",
    "print(\"========Tekst z placeholderami============\")\n",
    "print(changed_text_highlited)\n",
    "print(\"=========Odszyfrowany tekst===========\")\n",
    "print(oryginal_text + \"\\n\" + \"=\"*70)"
   ]
  },
  {
   "cell_type": "markdown",
   "id": "691a968c-e86d-45fb-8d07-5b049cebd3f3",
   "metadata": {},
   "source": [
    "### Funkcja zapisująca nowy tekst i słownik do osobnego pliku"
   ]
  },
  {
   "cell_type": "code",
   "execution_count": 14,
   "id": "39ea3f80-b740-4dd7-95af-56cce9165127",
   "metadata": {},
   "outputs": [],
   "source": [
    "def create_file_newText_dict(newText, dictionary):\n",
    "    \"\"\"\n",
    "    creates a file called \"result.txt\" with newText and dictionary\n",
    "    \"\"\"\n",
    "    # open or create new file called result.txt\n",
    "    with open(\"result.txt\", \"w\") as file:\n",
    "        # write text into the file\n",
    "        file.write(\"=\"*25 + \"Zmieniony tekst\" + \"=\"*25 + \"\\n\") # separator\n",
    "        file.write(newText + \"\\n\")\n",
    "        # convert distionary to str and write into the file\n",
    "        file.write(\"=\"*25 + \"Slownik zamiany\" + \"=\"*25 + \"\\n\") # separator\n",
    "        file.write(str(dictionary) + \"\\n\")\n",
    "        file.write(\"=\"*70 + \"\\n\") # separator\n",
    "        \n",
    "    "
   ]
  },
  {
   "cell_type": "code",
   "execution_count": 15,
   "id": "7d7151f3-42e1-4d94-a7b9-a0c1fa11d47a",
   "metadata": {},
   "outputs": [],
   "source": [
    "# create_file_newText_dict(changed_text, dataTransform_dict)\n",
    "create_file_newText_dict(changed_text, dataTransform_dict)"
   ]
  }
 ],
 "metadata": {
  "kernelspec": {
   "display_name": "Python 3 (ipykernel)",
   "language": "python",
   "name": "python3"
  },
  "language_info": {
   "codemirror_mode": {
    "name": "ipython",
    "version": 3
   },
   "file_extension": ".py",
   "mimetype": "text/x-python",
   "name": "python",
   "nbconvert_exporter": "python",
   "pygments_lexer": "ipython3",
   "version": "3.12.1"
  }
 },
 "nbformat": 4,
 "nbformat_minor": 5
}
